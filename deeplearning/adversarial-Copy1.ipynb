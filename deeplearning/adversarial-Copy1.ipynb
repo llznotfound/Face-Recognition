{
 "cells": [
  {
   "cell_type": "markdown",
   "metadata": {},
   "source": [
    "## Introduction\n",
    "\n",
    "This notebook shows how to load and evaluate the MNIST and CIFAR-10 models synthesized and trained as described in the following paper:\n",
    "\n",
    "M.Sinn, M.Wistuba, B.Buesser, M.-I.Nicolae, M.N.Tran: **Evolutionary Search for Adversarially Robust Neural Network** *ICLR SafeML Workshop 2019 (arXiv link to the paper will be added shortly)*.\n",
    "\n",
    "The models were saved in `.h5` using Python 3.6, TensorFlow 1.11.0, Keras 2.2.4."
   ]
  },
  {
   "cell_type": "code",
   "execution_count": 3,
   "metadata": {
    "ExecuteTime": {
     "end_time": "2020-06-16T03:01:59.443137Z",
     "start_time": "2020-06-16T03:01:57.828759Z"
    }
   },
   "outputs": [
    {
     "name": "stderr",
     "output_type": "stream",
     "text": [
      "Using TensorFlow backend.\n"
     ]
    }
   ],
   "source": [
    "import os\n",
    "os.environ['CUDA_VISIBLE_DEVICES'] = '1'\n",
    "import warnings\n",
    "warnings.filterwarnings('ignore')\n",
    "from keras.datasets import mnist, cifar10\n",
    "from keras.models import load_model\n",
    "from keras.utils.np_utils import to_categorical\n",
    "import numpy as np\n",
    "\n",
    "from art.config import ART_DATA_PATH\n",
    "from art.classifiers import KerasClassifier\n",
    "from art.attacks import ProjectedGradientDescent, DeepFool, PixelAttack, ThresholdAttack, NewtonFool, SaliencyMapMethod,FastGradientMethod\n",
    "from art.utils import get_file"
   ]
  },
  {
   "cell_type": "markdown",
   "metadata": {},
   "source": [
    "## MNIST\n",
    "\n",
    "Three different MNIST models are available. Use the following URLs to access them:\n",
    "- `mnist_ratio=0.h5`: trained on 100% benign samples (https://www.dropbox.com/s/bv1xwjaf1ov4u7y/mnist_ratio%3D0.h5?dl=1)\n",
    "- `mnist_ratio=0.5.h5`: trained on 50% benign and 50% adversarial samples (https://www.dropbox.com/s/0skvoxjd6klvti3/mnist_ratio%3D0.5.h5?dl=1)\n",
    "- `mnist_ratio=1.h5`: trained on 100% adversarial samples (https://www.dropbox.com/s/oa2kowq7kgaxh1o/mnist_ratio%3D1.h5?dl=1)"
   ]
  },
  {
   "cell_type": "markdown",
   "metadata": {},
   "source": [
    "Load data:"
   ]
  },
  {
   "cell_type": "markdown",
   "metadata": {},
   "source": [
    "## resnet50 + mnist"
   ]
  },
  {
   "cell_type": "code",
   "execution_count": 4,
   "metadata": {
    "ExecuteTime": {
     "end_time": "2020-06-16T03:03:12.577153Z",
     "start_time": "2020-06-16T03:02:02.405645Z"
    }
   },
   "outputs": [
    {
     "name": "stdout",
     "output_type": "stream",
     "text": [
      "Accuracy on first 10000 benign test samples: 0.987700\n",
      "Accuracy on first 64 adversarial test samples: 0.156250\n"
     ]
    }
   ],
   "source": [
    "(X_train, y_train), (X_test, y_test) = mnist.load_data()\n",
    "X_train = X_train.reshape(X_train.shape[0], 28, 28, 1).astype('float32')\n",
    "X_test = X_test.reshape(X_test.shape[0], 28, 28, 1).astype('float32')\n",
    "y_train = to_categorical(y_train, 10)\n",
    "y_test = to_categorical(y_test, 10)\n",
    "\n",
    "path = './model/resnet50_mnist.h5'\n",
    "model = load_model(path)\n",
    "classifier = KerasClassifier(model=model, use_logits=False, clip_values=[0,1])\n",
    "\n",
    "n = 10000\n",
    "y_pred = classifier.predict(X_test[:n])\n",
    "accuracy = np.mean(np.argmax(y_pred, axis=1) == np.argmax(y_test[:n], axis=1))\n",
    "print(\"Accuracy on first %i benign test samples: %f\" % (n, accuracy))\n",
    "\n",
    "\n",
    "attack = DeepFool(classifier, max_iter=40, batch_size = 64) \n",
    "\n",
    "n = 64\n",
    "X_test_adv = attack.generate(X_test[:n], y=y_test[:n])\n",
    "y_adv_pred = classifier.predict(X_test_adv)\n",
    "accuracy = np.mean(np.argmax(y_adv_pred, axis=1) == np.argmax(y_test[:n], axis=1))\n",
    "print(\"Accuracy on first %i adversarial test samples: %f\" % (n, accuracy))"
   ]
  },
  {
   "cell_type": "code",
   "execution_count": 12,
   "metadata": {
    "ExecuteTime": {
     "end_time": "2020-06-16T03:06:22.046741Z",
     "start_time": "2020-06-16T03:06:21.542890Z"
    }
   },
   "outputs": [
    {
     "name": "stdout",
     "output_type": "stream",
     "text": [
      "[[3.6515384e-03 9.6442789e-01 8.0814410e-04 3.4017761e-03 3.8319704e-04\n",
      "  2.2683407e-03 3.5691127e-04 1.6560791e-02 1.7357348e-03 6.4056977e-03]]\n"
     ]
    },
    {
     "data": {
      "image/png": "[encoded data removed]",
      "text/plain": [
       "<Figure size 1080x720 with 3 Axes>"
      ]
     },
     "metadata": {
      "needs_background": "light"
     },
     "output_type": "display_data"
    }
   ],
   "source": [
    "import matplotlib.pyplot as plt\n",
    "choice = 0\n",
    "image = X_test[choice].reshape(28,28)\n",
    "image_adv = X_test_adv[choice].reshape(28,28)\n",
    "\n",
    "fig, axs = plt.subplots(1,3, figsize = (15,10))\n",
    "\n",
    "axs[0].imshow(image, cmap=plt.cm.gray)\n",
    "axs[0].set_title(\"origin image\")\n",
    "axs[1].imshow(image_adv, cmap=plt.cm.gray)\n",
    "axs[1].set_title(\"attack image\")\n",
    "axs[2].imshow(image_adv - image, cmap=plt.cm.gray)\n",
    "axs[2].set_title(\"origin image - attack image\")\n",
    "print(classifier.predict(X_test_adv[choice:choice+1]))\n",
    "plt.show()"
   ]
  },
  {
   "cell_type": "markdown",
   "metadata": {},
   "source": [
    "## inceptionv3 + mnist"
   ]
  },
  {
   "cell_type": "code",
   "execution_count": 10,
   "metadata": {
    "ExecuteTime": {
     "end_time": "2020-06-15T14:26:20.144801Z",
     "start_time": "2020-06-15T14:16:28.348926Z"
    }
   },
   "outputs": [
    {
     "name": "stdout",
     "output_type": "stream",
     "text": [
      "Accuracy on first 10000 benign test samples: 0.994500\n",
      "Accuracy on first 3200 adversarial test samples: 1.000000\n"
     ]
    }
   ],
   "source": [
    "(X_train, y_train), (X_test, y_test) = mnist.load_data()\n",
    "X_train = X_train.reshape(X_train.shape[0], 28, 28, 1).astype('float32') / 255\n",
    "X_test = X_test.reshape(X_test.shape[0], 28, 28, 1).astype('float32') / 255\n",
    "y_train = to_categorical(y_train, 10)\n",
    "y_test = to_categorical(y_test, 10)\n",
    "\n",
    "path = './model/inceptionv3_mnist.h5'\n",
    "model = load_model(path)\n",
    "classifier = KerasClassifier(model=model, use_logits=False, clip_values=[0,1])\n",
    "\n",
    "n = 10000\n",
    "y_pred = classifier.predict(X_test[:n])\n",
    "accuracy = np.mean(np.argmax(y_pred, axis=1) == np.argmax(y_test[:n], axis=1))\n",
    "print(\"Accuracy on first %i benign test samples: %f\" % (n, accuracy))\n",
    "\n",
    "\n",
    "attack = SaliencyMapMethod(classifier, batch_size=64) \n",
    "\n",
    "n = 64*50\n",
    "X_test_adv_2= attack.generate(X_test[:n], y=y_test[:n])\n",
    "y_adv_pred = classifier.predict(X_test_adv_2)\n",
    "accuracy = np.mean(np.argmax(y_adv_pred, axis=1) == np.argmax(y_test[:n], axis=1))\n",
    "print(\"Accuracy on first %i adversarial test samples: %f\" % (n, accuracy))"
   ]
  },
  {
   "cell_type": "code",
   "execution_count": 27,
   "metadata": {
    "ExecuteTime": {
     "end_time": "2020-06-13T09:06:34.824255Z",
     "start_time": "2020-06-13T09:06:34.811849Z"
    },
    "collapsed": true
   },
   "outputs": [
    {
     "name": "stdout",
     "output_type": "stream",
     "text": [
      "[[3.6124759e-03 9.6418077e-01 8.0161524e-04 3.3697805e-03 3.7973784e-04\n",
      "  2.2528954e-03 3.4349147e-04 1.7037963e-02 1.6958660e-03 6.3255462e-03]\n",
      " [3.5243919e-03 9.6609467e-01 7.8276388e-04 3.3443740e-03 3.6816072e-04\n",
      "  2.2298538e-03 3.6011275e-04 1.5546178e-02 1.7008227e-03 6.0486677e-03]\n",
      " [3.5199947e-03 9.6590394e-01 7.7835814e-04 3.3042291e-03 3.7226125e-04\n",
      "  2.2126730e-03 3.5565230e-04 1.5822999e-02 1.6804456e-03 6.0494258e-03]\n",
      " [3.6399844e-03 9.6516842e-01 7.9757260e-04 3.3844393e-03 3.7867736e-04\n",
      "  2.2622936e-03 3.6400344e-04 1.6040642e-02 1.7243185e-03 6.2397304e-03]\n",
      " [3.5866615e-03 9.6542770e-01 7.9919182e-04 3.3842898e-03 3.7675066e-04\n",
      "  2.2453715e-03 3.6451119e-04 1.5906969e-02 1.7176839e-03 6.1908579e-03]\n",
      " [3.5306441e-03 9.6595240e-01 7.7837455e-04 3.3152737e-03 3.7099040e-04\n",
      "  2.2122967e-03 3.5688363e-04 1.5716845e-02 1.6939148e-03 6.0724402e-03]\n",
      " [3.5840031e-03 9.6524954e-01 8.0569158e-04 3.3437354e-03 3.7872474e-04\n",
      "  2.2564093e-03 3.6466122e-04 1.6222807e-02 1.7039875e-03 6.0904985e-03]\n",
      " [3.6622055e-03 9.6449208e-01 8.1042922e-04 3.4131669e-03 3.8440502e-04\n",
      "  2.2767447e-03 3.5890014e-04 1.6391831e-02 1.7401059e-03 6.4701168e-03]\n",
      " [3.6791204e-03 9.6480244e-01 8.1286079e-04 3.4511597e-03 3.8229191e-04\n",
      "  2.3603183e-03 3.7601124e-04 1.6111108e-02 1.7586383e-03 6.2659103e-03]\n",
      " [3.6399162e-03 9.6448141e-01 8.0768508e-04 3.3807403e-03 3.8380225e-04\n",
      "  2.2684170e-03 3.5611037e-04 1.6566128e-02 1.7278532e-03 6.3879900e-03]]\n"
     ]
    },
    {
     "data": {
      "text/plain": [
       "array([1, 1, 1, 1, 1, 1, 1, 1, 1, 1])"
      ]
     },
     "execution_count": 27,
     "metadata": {},
     "output_type": "execute_result"
    }
   ],
   "source": [
    "print(y_pred[:10])\n",
    "np.argmax(y_pred[:10], axis=1)"
   ]
  },
  {
   "cell_type": "code",
   "execution_count": 8,
   "metadata": {
    "ExecuteTime": {
     "end_time": "2020-06-13T06:56:30.224855Z",
     "start_time": "2020-06-13T06:56:29.847083Z"
    }
   },
   "outputs": [],
   "source": [
    "(X_train, y_train), (X_test, y_test) = mnist.load_data()\n",
    "X_train = X_train.reshape(X_train.shape[0], 28, 28, 1).astype('float32') / 255\n",
    "X_test = X_test.reshape(X_test.shape[0], 28, 28, 1).astype('float32') / 255\n",
    "y_train = to_categorical(y_train, 10)\n",
    "y_test = to_categorical(y_test, 10)"
   ]
  },
  {
   "cell_type": "markdown",
   "metadata": {},
   "source": [
    "E.g. load the model trained on 50% benign and 50% adversarial samples:"
   ]
  },
  {
   "cell_type": "code",
   "execution_count": 6,
   "metadata": {
    "ExecuteTime": {
     "end_time": "2020-06-13T06:56:08.681127Z",
     "start_time": "2020-06-13T06:55:34.562474Z"
    }
   },
   "outputs": [],
   "source": [
    "path = 'inceptionv3_mnist.h5'\n",
    "model = load_model(path)\n",
    "classifier = KerasClassifier(model=model, use_logits=False, clip_values=[0,1])"
   ]
  },
  {
   "cell_type": "markdown",
   "metadata": {},
   "source": [
    "Assess accuracy on first `n` benign test samples:"
   ]
  },
  {
   "cell_type": "code",
   "execution_count": 9,
   "metadata": {
    "ExecuteTime": {
     "end_time": "2020-06-13T06:57:05.858412Z",
     "start_time": "2020-06-13T06:56:34.667998Z"
    }
   },
   "outputs": [
    {
     "name": "stdout",
     "output_type": "stream",
     "text": [
      "Accuracy on first 10000 benign test samples: 0.994500\n"
     ]
    }
   ],
   "source": [
    "n = 10000\n",
    "y_pred = classifier.predict(X_test[:n])\n",
    "accuracy = np.mean(np.argmax(y_pred, axis=1) == np.argmax(y_test[:n], axis=1))\n",
    "print(\"Accuracy on first %i benign test samples: %f\" % (n, accuracy))"
   ]
  },
  {
   "cell_type": "markdown",
   "metadata": {},
   "source": [
    "Define adversarial attack:"
   ]
  },
  {
   "cell_type": "code",
   "execution_count": 21,
   "metadata": {
    "ExecuteTime": {
     "end_time": "2020-06-13T07:55:49.052695Z",
     "start_time": "2020-06-13T07:55:49.046945Z"
    }
   },
   "outputs": [],
   "source": [
    "attack = DeepFool(classifier, max_iter=40, batch_size = 64) "
   ]
  },
  {
   "cell_type": "markdown",
   "metadata": {},
   "source": [
    "Assess accuracy on first `n` adversarial test samples:"
   ]
  },
  {
   "cell_type": "code",
   "execution_count": 23,
   "metadata": {
    "ExecuteTime": {
     "end_time": "2020-06-13T08:51:03.443129Z",
     "start_time": "2020-06-13T08:00:27.463574Z"
    }
   },
   "outputs": [
    {
     "name": "stdout",
     "output_type": "stream",
     "text": [
      "Accuracy on first 3200 adversarial test samples: 0.889062\n"
     ]
    }
   ],
   "source": [
    "n = 64*50\n",
    "X_test_adv = attack.generate(X_test[:n], y=y_test[:n])\n",
    "y_adv_pred = classifier.predict(X_test_adv)\n",
    "accuracy = np.mean(np.argmax(y_adv_pred, axis=1) == np.argmax(y_test[:n], axis=1))\n",
    "print(\"Accuracy on first %i adversarial test samples: %f\" % (n, accuracy))"
   ]
  },
  {
   "cell_type": "code",
   "execution_count": 15,
   "metadata": {
    "ExecuteTime": {
     "end_time": "2020-06-13T07:32:40.175602Z",
     "start_time": "2020-06-13T07:32:40.165565Z"
    }
   },
   "outputs": [
    {
     "data": {
      "text/plain": [
       "array([[0., 0., 0., 0., 0., 0., 0., 1., 0., 0.],\n",
       "       [0., 0., 1., 0., 0., 0., 0., 0., 0., 0.],\n",
       "       [0., 1., 0., 0., 0., 0., 0., 0., 0., 0.],\n",
       "       [1., 0., 0., 0., 0., 0., 0., 0., 0., 0.],\n",
       "       [0., 0., 0., 0., 1., 0., 0., 0., 0., 0.],\n",
       "       [0., 1., 0., 0., 0., 0., 0., 0., 0., 0.],\n",
       "       [0., 0., 0., 0., 1., 0., 0., 0., 0., 0.],\n",
       "       [0., 0., 0., 0., 0., 0., 0., 0., 0., 1.],\n",
       "       [0., 0., 0., 0., 0., 1., 0., 0., 0., 0.],\n",
       "       [0., 0., 0., 0., 0., 0., 0., 0., 0., 1.]], dtype=float32)"
      ]
     },
     "execution_count": 15,
     "metadata": {},
     "output_type": "execute_result"
    }
   ],
   "source": [
    "y_test[:10]"
   ]
  },
  {
   "cell_type": "markdown",
   "metadata": {},
   "source": [
    "## CIFAR-10\n",
    "\n",
    "Similarly to MNIST, three different CIFAR-10 models are available at the following URLs:\n",
    "- `cifar-10_ratio=0.h5`: trained on 100% benign samples (https://www.dropbox.com/s/hbvua7ynhvara12/cifar-10_ratio%3D0.h5?dl=1)\n",
    "- `cifar-10_ratio=0.5.h5`: trained on 50% benign and 50% adversarial samples (https://www.dropbox.com/s/96yv0r2gqzockmw/cifar-10_ratio%3D0.5.h5?dl=1)\n",
    "- `cifar-10_ratio=1.h5`: trained on 100% adversarial samples (https://www.dropbox.com/s/7btc2sq7syf68at/cifar-10_ratio%3D1.h5?dl=1)"
   ]
  },
  {
   "cell_type": "markdown",
   "metadata": {},
   "source": [
    "## resnet50 + cifar10"
   ]
  },
  {
   "cell_type": "code",
   "execution_count": 42,
   "metadata": {
    "ExecuteTime": {
     "end_time": "2020-06-16T04:50:41.741808Z",
     "start_time": "2020-06-16T04:40:28.536387Z"
    }
   },
   "outputs": [
    {
     "name": "stdout",
     "output_type": "stream",
     "text": [
      "x_train shape: (50000, 32, 32, 3)\n",
      "50000 train samples\n",
      "10000 test samples\n",
      "Accuracy on first 3200 adversarial test samples: 0.484375\n"
     ]
    }
   ],
   "source": [
    "(x_train, y_train), (x_test, y_test) = cifar10.load_data()\n",
    "print('x_train shape:', x_train.shape)\n",
    "print(x_train.shape[0], 'train samples')\n",
    "print(x_test.shape[0], 'test samples')\n",
    "x_train = x_train.astype('float32')\n",
    "x_test = x_test.astype('float32')\n",
    "mean_image = np.mean(x_train, axis=0)\n",
    "x_train -= mean_image\n",
    "x_test -= mean_image\n",
    "x_train = x_train/128\n",
    "x_test = x_test/128 \n",
    "y_train = to_categorical(y_train, 10)\n",
    "y_test = to_categorical(y_test, 10)\n",
    "\n",
    "path = './model/resnet50_s_cifar10.h5'\n",
    "model = load_model(path)\n",
    "classifier = KerasClassifier(model=model, use_logits=False, clip_values=[0,255])\n",
    "\n",
    "# n = 10000\n",
    "# y_pred = classifier.predict(x_test[:n])\n",
    "# accuracy = np.mean(np.argmax(y_pred, axis=1) == np.argmax(y_test[:n], axis=1))\n",
    "# print(\"Accuracy on first %i benign test samples: %f\" % (n, accuracy))\n",
    "\n",
    "attack = NewtonFool(classifier, max_iter=40, batch_size=64) \n",
    "\n",
    "n = 64*50\n",
    "x_test_adv = attack.generate(x_test[:n], y=y_test[:n])\n",
    "y_adv_pred = classifier.predict(x_test_adv)\n",
    "accuracy = np.mean(np.argmax(y_adv_pred, axis=1) == np.argmax(y_test[:n], axis=1))\n",
    "print(\"Accuracy on first %i adversarial test samples: %f\" % (n, accuracy))"
   ]
  },
  {
   "cell_type": "code",
   "execution_count": 63,
   "metadata": {
    "ExecuteTime": {
     "end_time": "2020-06-16T06:47:31.381742Z",
     "start_time": "2020-06-16T06:47:30.852693Z"
    }
   },
   "outputs": [
    {
     "name": "stderr",
     "output_type": "stream",
     "text": [
      "Clipping input data to the valid range for imshow with RGB data ([0..1] for floats or [0..255] for integers).\n",
      "Clipping input data to the valid range for imshow with RGB data ([0..1] for floats or [0..255] for integers).\n",
      "Clipping input data to the valid range for imshow with RGB data ([0..1] for floats or [0..255] for integers).\n"
     ]
    },
    {
     "name": "stdout",
     "output_type": "stream",
     "text": [
      "5\n",
      "3\n"
     ]
    },
    {
     "data": {
      "image/png": "[encoded data removed]",
      "text/plain": [
       "<Figure size 1080x720 with 3 Axes>"
      ]
     },
     "metadata": {
      "needs_background": "light"
     },
     "output_type": "display_data"
    }
   ],
   "source": [
    "import matplotlib.pyplot as plt\n",
    "choice = 16\n",
    "image = x_test[choice].reshape(32,32,3)\n",
    "image_adv = x_test_adv[choice].reshape(32,32,3)\n",
    "\n",
    "fig, axs = plt.subplots(1,3, figsize = (15,10))\n",
    "\n",
    "axs[0].imshow(image, cmap=plt.cm.gray)\n",
    "axs[0].set_title(\"origin image\")\n",
    "axs[1].imshow(image_adv, cmap=plt.cm.gray)\n",
    "axs[1].set_title(\"attack image\")\n",
    "axs[2].imshow(image_adv - image, cmap=plt.cm.gray)\n",
    "axs[2].set_title(\"origin image - attack image\")\n",
    "print(np.argmax(classifier.predict(x_test[choice:choice+1])))\n",
    "print(np.argmax(classifier.predict(x_test_adv[choice:choice+1])))\n",
    "\n",
    "plt.show()"
   ]
  },
  {
   "cell_type": "markdown",
   "metadata": {},
   "source": [
    "## inceptionv3 + cifar10"
   ]
  },
  {
   "cell_type": "code",
   "execution_count": 11,
   "metadata": {
    "ExecuteTime": {
     "end_time": "2020-06-15T21:37:41.726655Z",
     "start_time": "2020-06-15T14:26:20.225922Z"
    },
    "scrolled": true
   },
   "outputs": [
    {
     "name": "stdout",
     "output_type": "stream",
     "text": [
      "Accuracy on first 3200 adversarial test samples: 1.000000\n"
     ]
    }
   ],
   "source": [
    "(X_train, y_train), (X_test, y_test) = cifar10.load_data()\n",
    "X_train = X_train.reshape(X_train.shape[0], 32, 32, 3).astype('float32') \n",
    "X_test = X_test.reshape(X_test.shape[0], 32, 32, 3).astype('float32') \n",
    "y_train = to_categorical(y_train, 10)\n",
    "y_test = to_categorical(y_test, 10)\n",
    "\n",
    "path = './model/inceptionv3_cifar10.h5'\n",
    "model = load_model(path)\n",
    "classifier = KerasClassifier(model=model, use_logits=False, clip_values=[0,255])\n",
    "\n",
    "# n = 10000\n",
    "# y_pred = classifier.predict(X_test[:n])\n",
    "# accuracy = np.mean(np.argmax(y_pred, axis=1) == np.argmax(y_test[:n], axis=1))\n",
    "# print(\"Accuracy on first %i benign test samples: %f\" % (n, accuracy))\n",
    "attack = SaliencyMapMethod(classifier, batch_size=64) \n",
    "\n",
    "n = 64*50\n",
    "X_test_adv = attack.generate(X_test[:n], y=y_test[:n])\n",
    "y_adv_pred = classifier.predict(X_test_adv)\n",
    "accuracy = np.mean(np.argmax(y_adv_pred, axis=1) == np.argmax(y_test[:n], axis=1))\n",
    "print(\"Accuracy on first %i adversarial test samples: %f\" % (n, accuracy))\n"
   ]
  },
  {
   "cell_type": "code",
   "execution_count": null,
   "metadata": {
    "ExecuteTime": {
     "start_time": "2020-06-13T13:54:12.823Z"
    }
   },
   "outputs": [],
   "source": [
    "attack = NewtonFool(classifier, max_iter=40, batch_size=64) \n",
    "\n",
    "n = 64*40\n",
    "X_test_adv = attack.generate(X_test[:n], y=y_test[:n])\n",
    "y_adv_pred = classifier.predict(X_test_adv)\n",
    "accuracy = np.mean(np.argmax(y_adv_pred, axis=1) == np.argmax(y_test[:n], axis=1))\n",
    "print(\"Accuracy on first %i adversarial test samples: %f\" % (n, accuracy))"
   ]
  },
  {
   "cell_type": "markdown",
   "metadata": {},
   "source": [
    "Load data:"
   ]
  },
  {
   "cell_type": "code",
   "execution_count": 5,
   "metadata": {
    "ExecuteTime": {
     "end_time": "2020-06-13T02:51:45.156275Z",
     "start_time": "2020-06-13T02:51:10.334250Z"
    }
   },
   "outputs": [
    {
     "name": "stdout",
     "output_type": "stream",
     "text": [
      "Downloading data from https://www.cs.toronto.edu/~kriz/cifar-10-python.tar.gz\n",
      "170500096/170498071 [==============================] - 32s 0us/step\n"
     ]
    }
   ],
   "source": [
    "(X_train, y_train), (X_test, y_test) = cifar10.load_data()\n",
    "X_train = X_train.reshape(X_train.shape[0], 32, 32, 3).astype('float32')\n",
    "X_test = X_test.reshape(X_test.shape[0], 32, 32, 3).astype('float32')\n",
    "y_train = to_categorical(y_train, 10)\n",
    "y_test = to_categorical(y_test, 10)"
   ]
  },
  {
   "cell_type": "markdown",
   "metadata": {},
   "source": [
    "E.g. load the model trained on 50% benign and 50% adversarial samples:"
   ]
  },
  {
   "cell_type": "code",
   "execution_count": 8,
   "metadata": {},
   "outputs": [],
   "source": [
    "path = get_file('cifar-10_ratio=0.5.h5',extract=False, path=ART_DATA_PATH,\n",
    "                url='https://www.dropbox.com/s/96yv0r2gqzockmw/cifar-10_ratio%3D0.5.h5?dl=1')\n",
    "model = load_model(path)\n",
    "classifier = KerasClassifier(model=model, use_logits=False, clip_values=[0,255])"
   ]
  },
  {
   "cell_type": "markdown",
   "metadata": {},
   "source": [
    "Assess accuracy on first `n` benign test samples:"
   ]
  },
  {
   "cell_type": "code",
   "execution_count": 9,
   "metadata": {},
   "outputs": [
    {
     "name": "stdout",
     "output_type": "stream",
     "text": [
      "Accuracy on first 100 benign test samples: 0.940000\n"
     ]
    }
   ],
   "source": [
    "n = 100\n",
    "y_pred = classifier.predict(X_test[:n])\n",
    "accuracy = np.mean(np.argmax(y_pred, axis=1) == np.argmax(y_test[:n], axis=1))\n",
    "print(\"Accuracy on first %i benign test samples: %f\" % (n, accuracy))"
   ]
  },
  {
   "cell_type": "markdown",
   "metadata": {},
   "source": [
    "Define adversarial attack:"
   ]
  },
  {
   "cell_type": "code",
   "execution_count": 10,
   "metadata": {},
   "outputs": [],
   "source": [
    "attack = ProjectedGradientDescent(classifier, eps=8, eps_step=2, max_iter=10, targeted=False, \n",
    "                                  num_random_init=True) "
   ]
  },
  {
   "cell_type": "markdown",
   "metadata": {},
   "source": [
    "Assess accuracy on first `n` adversarial test samples:"
   ]
  },
  {
   "cell_type": "code",
   "execution_count": 11,
   "metadata": {},
   "outputs": [
    {
     "name": "stdout",
     "output_type": "stream",
     "text": [
      "Accuracy on first 100 adversarial test samples: 0.450000\n"
     ]
    }
   ],
   "source": [
    "n = 100\n",
    "X_test_adv = attack.generate(X_test[:n], y=y_test[:n])\n",
    "y_adv_pred = classifier.predict(X_test_adv)\n",
    "accuracy = np.mean(np.argmax(y_adv_pred, axis=1) == np.argmax(y_test[:n], axis=1))\n",
    "print(\"Accuracy on first %i adversarial test samples: %f\" % (n, accuracy))"
   ]
  },
  {
   "cell_type": "code",
   "execution_count": null,
   "metadata": {},
   "outputs": [],
   "source": []
  }
 ],
 "metadata": {
  "kernelspec": {
   "display_name": "Python 3",
   "language": "python",
   "name": "python3"
  },
  "language_info": {
   "codemirror_mode": {
    "name": "ipython",
    "version": 3
   },
   "file_extension": ".py",
   "mimetype": "text/x-python",
   "name": "python",
   "nbconvert_exporter": "python",
   "pygments_lexer": "ipython3",
   "version": "3.6.8"
  },
  "toc": {
   "base_numbering": 1,
   "nav_menu": {},
   "number_sections": true,
   "sideBar": true,
   "skip_h1_title": false,
   "title_cell": "Table of Contents",
   "title_sidebar": "Contents",
   "toc_cell": false,
   "toc_position": {},
   "toc_section_display": true,
   "toc_window_display": false
  },
  "varInspector": {
   "cols": {
    "lenName": 16,
    "lenType": 16,
    "lenVar": 40
   },
   "kernels_config": {
    "python": {
     "delete_cmd_postfix": "",
     "delete_cmd_prefix": "del ",
     "library": "var_list.py",
     "varRefreshCmd": "print(var_dic_list())"
    },
    "r": {
     "delete_cmd_postfix": ") ",
     "delete_cmd_prefix": "rm(",
     "library": "var_list.r",
     "varRefreshCmd": "cat(var_dic_list()) "
    }
   },
   "types_to_exclude": [
    "module",
    "function",
    "builtin_function_or_method",
    "instance",
    "_Feature"
   ],
   "window_display": false
  }
 },
 "nbformat": 4,
 "nbformat_minor": 1
}
