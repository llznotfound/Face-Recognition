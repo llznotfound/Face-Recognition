{
 "cells": [
  {
   "cell_type": "markdown",
   "metadata": {
    "colab_type": "text",
    "id": "view-in-github"
   },
   "source": [
    "<a href=\"https://colab.research.google.com/github/iamsoroush/mnist_inception_finetune/blob/master/mnist_tutorial.ipynb\" target=\"_parent\"><img src=\"https://colab.research.google.com/assets/colab-badge.svg\" alt=\"Open In Colab\"/></a>"
   ]
  },
  {
   "cell_type": "markdown",
   "metadata": {
    "_uuid": "d95674766b31d56a076ec3495a871fe171348d3d",
    "colab_type": "text",
    "id": "PRzhwcN__ZbA"
   },
   "source": [
    "<a id=\"1\"></a> <br>\n",
    "# Import Required Libraries\n",
    "\n",
    "As the first step, we need to import needed libraries"
   ]
  },
  {
   "cell_type": "code",
   "execution_count": 1,
   "metadata": {
    "ExecuteTime": {
     "end_time": "2020-06-16T08:02:48.194399Z",
     "start_time": "2020-06-16T08:02:45.816939Z"
    }
   },
   "outputs": [
    {
     "name": "stderr",
     "output_type": "stream",
     "text": [
      "Using TensorFlow backend.\n"
     ]
    }
   ],
   "source": [
    "import os\n",
    "os.environ['CUDA_VISIBLE_DEVICES'] = '1'\n",
    "import tensorflow as tf\n",
    "import keras.backend.tensorflow_backend as KTF\n",
    " \n",
    "config = tf.ConfigProto()\n",
    "# 指定可见显卡\n",
    "# config.gpu_options.visible_device_list=\"1\"\n",
    "# config.gpu_options.per_process_gpu_memory_fraction = 0.5\n",
    "#不满显存, 自适应分配\n",
    "config.gpu_options.allow_growth=True   \n",
    "sess = tf.Session(config=config)\n",
    "KTF.set_session(sess)"
   ]
  },
  {
   "cell_type": "code",
   "execution_count": 2,
   "metadata": {
    "ExecuteTime": {
     "end_time": "2020-06-16T08:02:49.418237Z",
     "start_time": "2020-06-16T08:02:49.021180Z"
    },
    "_cell_guid": "b1076dfc-b9ad-4769-8c92-a6c4dae69d19",
    "_uuid": "8f2839f25d086af736a60e9eeb907d3b93b6e0e5",
    "colab": {},
    "colab_type": "code",
    "id": "9BCYB78H_ZbB"
   },
   "outputs": [],
   "source": [
    "import numpy as np # linear algebra\n",
    "import pandas as pd # data processing, CSV file I/O (e.g. pd.read_csv)\n",
    "import os\n",
    "import matplotlib.pyplot as plt\n",
    "import tensorflow as tf\n",
    "from sklearn.model_selection import train_test_split\n",
    "from keras.layers import Flatten, Dense, Conv2D, MaxPooling2D, GlobalAveragePooling2D, Dropout, Input, UpSampling3D\n",
    "from keras.models import Model\n",
    "from keras.optimizers import RMSprop\n",
    "from keras.preprocessing.image import ImageDataGenerator\n",
    "from keras.callbacks import ReduceLROnPlateau\n",
    "from keras.utils import plot_model\n",
    "from keras.utils.np_utils import to_categorical\n",
    "from keras.applications.inception_v3 import InceptionV3\n",
    "\n",
    "from keras.datasets import mnist, cifar10"
   ]
  },
  {
   "cell_type": "code",
   "execution_count": 3,
   "metadata": {
    "ExecuteTime": {
     "end_time": "2020-06-16T08:02:50.734060Z",
     "start_time": "2020-06-16T08:02:50.720821Z"
    }
   },
   "outputs": [],
   "source": [
    "def split_dataset(datapath, p):\n",
    "    sample_folder_list = os.listdir(datapath) ##各个样本的文件夹\n",
    "    sample_folder_list_dict = {} ##各个文件夹下的图片路径信息\n",
    "    train_dir_dict = {} ##用作训练的样本路径集合\n",
    "    test_dir_dict = {}##用作测试的样本路径集合\n",
    "\n",
    "    for folder in sample_folder_list:\n",
    "        sample_folder_list_dict[folder] = os.listdir(datapath+folder)\n",
    "        train_dir_dict[folder] = random.sample(sample_folder_list_dict[folder], p)\n",
    "        test_dir_dict[folder] = list(set(sample_folder_list_dict[folder])-set(train_dir_dict[folder]))\n",
    "\n",
    "    train_label = []\n",
    "    train_data = []\n",
    "\n",
    "    test_label = []\n",
    "    test_data = []\n",
    "\n",
    "    for key in train_dir_dict:\n",
    "        for path in train_dir_dict[key]:\n",
    "            train_label.append(min(int(key[-2:])-1, 37))\n",
    "            img = cv2.imread(datapath+key+'/'+path)\n",
    "            img = cv2.resize(img, (42, 48))\n",
    "            train_data.append(img)\n",
    "        \n",
    "        for path in test_dir_dict[key]:\n",
    "            test_label.append(min(int(key[-2:])-1, 37))\n",
    "            img = cv2.imread(datapath+key+'/'+path)\n",
    "            img = cv2.resize(img, (42, 48))\n",
    "            test_data.append(img)\n",
    "\n",
    "    return train_data, train_label, test_data, test_label"
   ]
  },
  {
   "cell_type": "code",
   "execution_count": 4,
   "metadata": {
    "ExecuteTime": {
     "end_time": "2020-06-16T08:02:52.538910Z",
     "start_time": "2020-06-16T08:02:52.272216Z"
    }
   },
   "outputs": [],
   "source": [
    "import random\n",
    "import cv2\n",
    "datapath = '/root/zhb/Documents/PR/data/' \n",
    "train_data, train_label, test_data, test_label = split_dataset(datapath, 30)\n",
    "x_train = np.asarray(train_data) \n",
    "train_label = np.asarray(train_label) \n",
    "x_test = np.asarray(test_data) \n",
    "test_label = np.asarray(test_label)\n",
    "y_train = to_categorical(train_label, 38)\n",
    "y_test = to_categorical(test_label, 38)"
   ]
  },
  {
   "cell_type": "markdown",
   "metadata": {
    "colab_type": "text",
    "id": "1T9_BFN14kKU"
   },
   "source": [
    "# Load and Prepare Data"
   ]
  },
  {
   "cell_type": "markdown",
   "metadata": {
    "ExecuteTime": {
     "end_time": "2020-06-13T04:57:49.973257Z",
     "start_time": "2020-06-13T04:57:49.969431Z"
    },
    "code_folding": []
   },
   "source": [
    "## cifar 10 dataset"
   ]
  },
  {
   "cell_type": "code",
   "execution_count": 36,
   "metadata": {
    "ExecuteTime": {
     "end_time": "2020-06-13T05:03:51.489159Z",
     "start_time": "2020-06-13T05:03:51.068156Z"
    }
   },
   "outputs": [],
   "source": [
    "(X_train, y_train), (X_test, y_test) = cifar10.load_data()\n",
    "x_train = X_train.reshape(X_train.shape[0], 32, 32, 3).astype('float32')\n",
    "x_test = X_test.reshape(X_test.shape[0], 32, 32, 3).astype('float32')\n",
    "y_train = to_categorical(y_train)\n",
    "y_test = to_categorical(y_test)"
   ]
  },
  {
   "cell_type": "markdown",
   "metadata": {},
   "source": [
    "## mnist dataset"
   ]
  },
  {
   "cell_type": "code",
   "execution_count": 2,
   "metadata": {
    "ExecuteTime": {
     "end_time": "2020-06-13T02:42:57.521505Z",
     "start_time": "2020-06-13T02:42:57.018903Z"
    },
    "_uuid": "e66215d19f779dd26771a0da862c008bade3e34c",
    "colab": {
     "base_uri": "https://localhost:8080/",
     "height": 87
    },
    "colab_type": "code",
    "collapsed": true,
    "id": "WsjpvKVv_ZbO",
    "outputId": "adb0dd99-b5d0-4269-a3bf-22b2f07c3a83"
   },
   "outputs": [
    {
     "name": "stdout",
     "output_type": "stream",
     "text": [
      "X train:  (60000, 28, 28)\n",
      "y train:  (60000,)\n",
      "X test:  (10000, 28, 28)\n",
      "y test:  (10000,)\n"
     ]
    }
   ],
   "source": [
    "(x_train, y_train), (x_test, y_test) = mnist.load_data()\n",
    "\n",
    "print('X train: ', x_train.shape)\n",
    "print('y train: ', y_train.shape)\n",
    "print('X test: ', x_test.shape)\n",
    "print('y test: ', y_test.shape)\n",
    "\n",
    "x_train = (x_train / 255).astype('float32')\n",
    "x_test = (x_test / 255).astype('float32')\n",
    "#expand 1 more dimention as 1 for colour channel gray\n",
    "x_train = x_train.reshape(x_train.shape[0], 28, 28, 1)\n",
    "print(x_train.shape)\n",
    "x_test = x_test.reshape(x_test.shape[0], 28, 28, 1)\n",
    "print(x_test.shape)\n",
    "y_train = to_categorical(y_train)\n",
    "num_classes = y_train.shape[1]\n",
    "y_train.shape"
   ]
  },
  {
   "cell_type": "markdown",
   "metadata": {
    "_kg_hide-input": true,
    "_kg_hide-output": true,
    "_uuid": "e9d8db3a00b23c965bda0834f41e7186e0b2939a",
    "colab_type": "text",
    "id": "lthZcmkm_ZbS"
   },
   "source": [
    "The Input in in th shape 1 * 784 arrays. We convert them to an image of 28 * 28 pixel to be able to use convolutional layers."
   ]
  },
  {
   "cell_type": "code",
   "execution_count": 3,
   "metadata": {
    "ExecuteTime": {
     "end_time": "2020-06-13T02:43:02.195436Z",
     "start_time": "2020-06-13T02:43:02.186217Z"
    },
    "_uuid": "11f6ee7afe8e7b2291bb6f7bb4fa5a39c2629862",
    "colab": {
     "base_uri": "https://localhost:8080/",
     "height": 52
    },
    "colab_type": "code",
    "id": "5T1GVrLM_ZbS",
    "outputId": "1d4c084c-efd8-4b91-de27-fd6af2b9273c"
   },
   "outputs": [
    {
     "name": "stdout",
     "output_type": "stream",
     "text": [
      "(60000, 28, 28, 1)\n",
      "(10000, 28, 28, 1)\n"
     ]
    }
   ],
   "source": []
  },
  {
   "cell_type": "markdown",
   "metadata": {
    "_uuid": "6d9cee8f02c5b48e3461140d21828b173f13c1e4",
    "colab_type": "text",
    "id": "TrSMVjk4_ZbW"
   },
   "source": [
    "We have a number for each image but we need an array.\n",
    "2 has to be converted to [0, 0, 1, 0, 0 ,0 ,0 ,0 ,0 ,0] "
   ]
  },
  {
   "cell_type": "code",
   "execution_count": 4,
   "metadata": {
    "ExecuteTime": {
     "end_time": "2020-06-13T02:43:04.921087Z",
     "start_time": "2020-06-13T02:43:04.906017Z"
    },
    "_uuid": "1c517b899b9a7dd753d9c74a07c9ecdf2415a6c5",
    "colab": {
     "base_uri": "https://localhost:8080/",
     "height": 35
    },
    "colab_type": "code",
    "id": "Y4pbBduy_ZbW",
    "outputId": "a9e7a121-3acb-4dd9-e8da-267b8b6c2e8c"
   },
   "outputs": [
    {
     "data": {
      "text/plain": [
       "(60000, 10)"
      ]
     },
     "execution_count": 4,
     "metadata": {},
     "output_type": "execute_result"
    }
   ],
   "source": []
  },
  {
   "cell_type": "markdown",
   "metadata": {
    "colab_type": "text",
    "id": "r7Wflh1e5BWU"
   },
   "source": [
    "Split training set to train and validation sets:"
   ]
  },
  {
   "cell_type": "code",
   "execution_count": 5,
   "metadata": {
    "ExecuteTime": {
     "end_time": "2020-06-16T08:02:57.035718Z",
     "start_time": "2020-06-16T08:02:57.027387Z"
    },
    "_uuid": "1a68e9dd05663f7f7f4c494c16c9faed10838e4e",
    "colab": {},
    "colab_type": "code",
    "id": "jzHOleRg_Zbp"
   },
   "outputs": [],
   "source": [
    "# Set the random seed\n",
    "random_seed = 2\n",
    "# Split the train and the validation set for the fitting\n",
    "x_train, x_val, y_train, y_val = train_test_split(x_train, y_train, test_size=0.2, random_state=random_seed)"
   ]
  },
  {
   "cell_type": "markdown",
   "metadata": {
    "_uuid": "4e4a77db18798635913836adce710355afdea1a2",
    "colab_type": "text",
    "id": "rX-ikYKb_Zbs"
   },
   "source": [
    "<a id=\"9\"></a> <br>\n",
    "# Define the Model"
   ]
  },
  {
   "cell_type": "code",
   "execution_count": 7,
   "metadata": {
    "ExecuteTime": {
     "end_time": "2020-06-16T08:04:32.480025Z",
     "start_time": "2020-06-16T08:04:02.035871Z"
    },
    "colab": {
     "base_uri": "https://localhost:8080/",
     "height": 387
    },
    "colab_type": "code",
    "id": "nXClhuIxuRd3",
    "outputId": "f99e4119-2ede-4e00-cbbb-2d50123c7bed"
   },
   "outputs": [
    {
     "name": "stdout",
     "output_type": "stream",
     "text": [
      "_________________________________________________________________\n",
      "Layer (type)                 Output Shape              Param #   \n",
      "=================================================================\n",
      "inception_input (InputLayer) (None, 48, 42, 3)         0         \n",
      "_________________________________________________________________\n",
      "up_sampling3d_2 (UpSampling3 (None, 144, 126, 3)       0         \n",
      "_________________________________________________________________\n",
      "inception_v3 (Model)         multiple                  21802784  \n",
      "_________________________________________________________________\n",
      "global_average_pooling2d_2 ( (None, 2048)              0         \n",
      "_________________________________________________________________\n",
      "dense_3 (Dense)              (None, 1024)              2098176   \n",
      "_________________________________________________________________\n",
      "dropout_2 (Dropout)          (None, 1024)              0         \n",
      "_________________________________________________________________\n",
      "dense_4 (Dense)              (None, 38)                38950     \n",
      "=================================================================\n",
      "Total params: 23,939,910\n",
      "Trainable params: 23,905,478\n",
      "Non-trainable params: 34,432\n",
      "_________________________________________________________________\n"
     ]
    }
   ],
   "source": [
    "# create the base pre-trained model\n",
    "base_model = InceptionV3(weights='imagenet', include_top=False)\n",
    "\n",
    "#mnist\n",
    "# input_inception = Input(shape=(28, 28, 1), dtype='float32', name='inception_input')\n",
    "#cifar 10\n",
    "input_inception = Input(shape=(48, 42, 3), dtype='float32', name='inception_input')\n",
    "\n",
    "\n",
    "# create the base pre-trained model\n",
    "##cifar 10\n",
    "x = UpSampling3D(size=(3, 3, 1), data_format=\"channels_last\")(input_inception)\n",
    "\n",
    "##mnist\n",
    "# x = UpSampling3D(size=(3, 3, 3), data_format=\"channels_last\")(input_inception)\n",
    "\n",
    "\n",
    "# x = Conv2D(filters=3, kernel_size=1, padding=\"same\", activation='relu', data_format='channels_last')(x)\n",
    "\n",
    "x = base_model(x)\n",
    "\n",
    "# add a global spatial average pooling layer\n",
    "# x = base_model.output\n",
    "x = GlobalAveragePooling2D()(x)\n",
    "# let's add a fully-connected layer\n",
    "x = Dense(1024, activation='relu')(x)\n",
    "x = Dropout(0.5)(x)\n",
    "# and a logistic layer\n",
    "predictions = Dense(38, activation='softmax')(x)\n",
    "\n",
    "# this is the model we will train\n",
    "inceptionv3_model = Model(inputs=input_inception, outputs=predictions)\n",
    "\n",
    "inceptionv3_model.summary()"
   ]
  },
  {
   "cell_type": "markdown",
   "metadata": {
    "colab_type": "text",
    "id": "5nPDELRX5a-d"
   },
   "source": [
    "# Freeze the First 2 Blocks"
   ]
  },
  {
   "cell_type": "code",
   "execution_count": 8,
   "metadata": {
    "ExecuteTime": {
     "end_time": "2020-06-16T08:04:58.641400Z",
     "start_time": "2020-06-16T08:04:58.569072Z"
    },
    "colab": {
     "base_uri": "https://localhost:8080/",
     "height": 5491
    },
    "colab_type": "code",
    "collapsed": true,
    "id": "LDLEBNqbwCx7",
    "outputId": "d48321ac-6c0d-4493-b9be-de1dc63a3091"
   },
   "outputs": [
    {
     "name": "stdout",
     "output_type": "stream",
     "text": [
      "0 input_2\n",
      "1 conv2d_95\n",
      "2 batch_normalization_95\n",
      "3 activation_95\n",
      "4 conv2d_96\n",
      "5 batch_normalization_96\n",
      "6 activation_96\n",
      "7 conv2d_97\n",
      "8 batch_normalization_97\n",
      "9 activation_97\n",
      "10 max_pooling2d_5\n",
      "11 conv2d_98\n",
      "12 batch_normalization_98\n",
      "13 activation_98\n",
      "14 conv2d_99\n",
      "15 batch_normalization_99\n",
      "16 activation_99\n",
      "17 max_pooling2d_6\n",
      "18 conv2d_103\n",
      "19 batch_normalization_103\n",
      "20 activation_103\n",
      "21 conv2d_101\n",
      "22 conv2d_104\n",
      "23 batch_normalization_101\n",
      "24 batch_normalization_104\n",
      "25 activation_101\n",
      "26 activation_104\n",
      "27 average_pooling2d_10\n",
      "28 conv2d_100\n",
      "29 conv2d_102\n",
      "30 conv2d_105\n",
      "31 conv2d_106\n",
      "32 batch_normalization_100\n",
      "33 batch_normalization_102\n",
      "34 batch_normalization_105\n",
      "35 batch_normalization_106\n",
      "36 activation_100\n",
      "37 activation_102\n",
      "38 activation_105\n",
      "39 activation_106\n",
      "40 mixed0\n",
      "41 conv2d_110\n",
      "42 batch_normalization_110\n",
      "43 activation_110\n",
      "44 conv2d_108\n",
      "45 conv2d_111\n",
      "46 batch_normalization_108\n",
      "47 batch_normalization_111\n",
      "48 activation_108\n",
      "49 activation_111\n",
      "50 average_pooling2d_11\n",
      "51 conv2d_107\n",
      "52 conv2d_109\n",
      "53 conv2d_112\n",
      "54 conv2d_113\n",
      "55 batch_normalization_107\n",
      "56 batch_normalization_109\n",
      "57 batch_normalization_112\n",
      "58 batch_normalization_113\n",
      "59 activation_107\n",
      "60 activation_109\n",
      "61 activation_112\n",
      "62 activation_113\n",
      "63 mixed1\n",
      "64 conv2d_117\n",
      "65 batch_normalization_117\n",
      "66 activation_117\n",
      "67 conv2d_115\n",
      "68 conv2d_118\n",
      "69 batch_normalization_115\n",
      "70 batch_normalization_118\n",
      "71 activation_115\n",
      "72 activation_118\n",
      "73 average_pooling2d_12\n",
      "74 conv2d_114\n",
      "75 conv2d_116\n",
      "76 conv2d_119\n",
      "77 conv2d_120\n",
      "78 batch_normalization_114\n",
      "79 batch_normalization_116\n",
      "80 batch_normalization_119\n",
      "81 batch_normalization_120\n",
      "82 activation_114\n",
      "83 activation_116\n",
      "84 activation_119\n",
      "85 activation_120\n",
      "86 mixed2\n",
      "87 conv2d_122\n",
      "88 batch_normalization_122\n",
      "89 activation_122\n",
      "90 conv2d_123\n",
      "91 batch_normalization_123\n",
      "92 activation_123\n",
      "93 conv2d_121\n",
      "94 conv2d_124\n",
      "95 batch_normalization_121\n",
      "96 batch_normalization_124\n",
      "97 activation_121\n",
      "98 activation_124\n",
      "99 max_pooling2d_7\n",
      "100 mixed3\n",
      "101 conv2d_129\n",
      "102 batch_normalization_129\n",
      "103 activation_129\n",
      "104 conv2d_130\n",
      "105 batch_normalization_130\n",
      "106 activation_130\n",
      "107 conv2d_126\n",
      "108 conv2d_131\n",
      "109 batch_normalization_126\n",
      "110 batch_normalization_131\n",
      "111 activation_126\n",
      "112 activation_131\n",
      "113 conv2d_127\n",
      "114 conv2d_132\n",
      "115 batch_normalization_127\n",
      "116 batch_normalization_132\n",
      "117 activation_127\n",
      "118 activation_132\n",
      "119 average_pooling2d_13\n",
      "120 conv2d_125\n",
      "121 conv2d_128\n",
      "122 conv2d_133\n",
      "123 conv2d_134\n",
      "124 batch_normalization_125\n",
      "125 batch_normalization_128\n",
      "126 batch_normalization_133\n",
      "127 batch_normalization_134\n",
      "128 activation_125\n",
      "129 activation_128\n",
      "130 activation_133\n",
      "131 activation_134\n",
      "132 mixed4\n",
      "133 conv2d_139\n",
      "134 batch_normalization_139\n",
      "135 activation_139\n",
      "136 conv2d_140\n",
      "137 batch_normalization_140\n",
      "138 activation_140\n",
      "139 conv2d_136\n",
      "140 conv2d_141\n",
      "141 batch_normalization_136\n",
      "142 batch_normalization_141\n",
      "143 activation_136\n",
      "144 activation_141\n",
      "145 conv2d_137\n",
      "146 conv2d_142\n",
      "147 batch_normalization_137\n",
      "148 batch_normalization_142\n",
      "149 activation_137\n",
      "150 activation_142\n",
      "151 average_pooling2d_14\n",
      "152 conv2d_135\n",
      "153 conv2d_138\n",
      "154 conv2d_143\n",
      "155 conv2d_144\n",
      "156 batch_normalization_135\n",
      "157 batch_normalization_138\n",
      "158 batch_normalization_143\n",
      "159 batch_normalization_144\n",
      "160 activation_135\n",
      "161 activation_138\n",
      "162 activation_143\n",
      "163 activation_144\n",
      "164 mixed5\n",
      "165 conv2d_149\n",
      "166 batch_normalization_149\n",
      "167 activation_149\n",
      "168 conv2d_150\n",
      "169 batch_normalization_150\n",
      "170 activation_150\n",
      "171 conv2d_146\n",
      "172 conv2d_151\n",
      "173 batch_normalization_146\n",
      "174 batch_normalization_151\n",
      "175 activation_146\n",
      "176 activation_151\n",
      "177 conv2d_147\n",
      "178 conv2d_152\n",
      "179 batch_normalization_147\n",
      "180 batch_normalization_152\n",
      "181 activation_147\n",
      "182 activation_152\n",
      "183 average_pooling2d_15\n",
      "184 conv2d_145\n",
      "185 conv2d_148\n",
      "186 conv2d_153\n",
      "187 conv2d_154\n",
      "188 batch_normalization_145\n",
      "189 batch_normalization_148\n",
      "190 batch_normalization_153\n",
      "191 batch_normalization_154\n",
      "192 activation_145\n",
      "193 activation_148\n",
      "194 activation_153\n",
      "195 activation_154\n",
      "196 mixed6\n",
      "197 conv2d_159\n",
      "198 batch_normalization_159\n",
      "199 activation_159\n",
      "200 conv2d_160\n",
      "201 batch_normalization_160\n",
      "202 activation_160\n",
      "203 conv2d_156\n",
      "204 conv2d_161\n",
      "205 batch_normalization_156\n",
      "206 batch_normalization_161\n",
      "207 activation_156\n",
      "208 activation_161\n",
      "209 conv2d_157\n",
      "210 conv2d_162\n",
      "211 batch_normalization_157\n",
      "212 batch_normalization_162\n",
      "213 activation_157\n",
      "214 activation_162\n",
      "215 average_pooling2d_16\n",
      "216 conv2d_155\n",
      "217 conv2d_158\n",
      "218 conv2d_163\n",
      "219 conv2d_164\n",
      "220 batch_normalization_155\n",
      "221 batch_normalization_158\n",
      "222 batch_normalization_163\n",
      "223 batch_normalization_164\n",
      "224 activation_155\n",
      "225 activation_158\n",
      "226 activation_163\n",
      "227 activation_164\n",
      "228 mixed7\n",
      "229 conv2d_167\n",
      "230 batch_normalization_167\n",
      "231 activation_167\n",
      "232 conv2d_168\n",
      "233 batch_normalization_168\n",
      "234 activation_168\n",
      "235 conv2d_165\n",
      "236 conv2d_169\n",
      "237 batch_normalization_165\n",
      "238 batch_normalization_169\n",
      "239 activation_165\n",
      "240 activation_169\n",
      "241 conv2d_166\n",
      "242 conv2d_170\n",
      "243 batch_normalization_166\n",
      "244 batch_normalization_170\n",
      "245 activation_166\n",
      "246 activation_170\n",
      "247 max_pooling2d_8\n",
      "248 mixed8\n",
      "249 conv2d_175\n",
      "250 batch_normalization_175\n",
      "251 activation_175\n",
      "252 conv2d_172\n",
      "253 conv2d_176\n",
      "254 batch_normalization_172\n",
      "255 batch_normalization_176\n",
      "256 activation_172\n",
      "257 activation_176\n",
      "258 conv2d_173\n",
      "259 conv2d_174\n",
      "260 conv2d_177\n",
      "261 conv2d_178\n",
      "262 average_pooling2d_17\n",
      "263 conv2d_171\n",
      "264 batch_normalization_173\n",
      "265 batch_normalization_174\n",
      "266 batch_normalization_177\n",
      "267 batch_normalization_178\n",
      "268 conv2d_179\n",
      "269 batch_normalization_171\n",
      "270 activation_173\n",
      "271 activation_174\n",
      "272 activation_177\n",
      "273 activation_178\n",
      "274 batch_normalization_179\n",
      "275 activation_171\n",
      "276 mixed9_0\n",
      "277 concatenate_3\n",
      "278 activation_179\n",
      "279 mixed9\n",
      "280 conv2d_184\n",
      "281 batch_normalization_184\n",
      "282 activation_184\n",
      "283 conv2d_181\n",
      "284 conv2d_185\n",
      "285 batch_normalization_181\n",
      "286 batch_normalization_185\n",
      "287 activation_181\n",
      "288 activation_185\n",
      "289 conv2d_182\n",
      "290 conv2d_183\n",
      "291 conv2d_186\n",
      "292 conv2d_187\n",
      "293 average_pooling2d_18\n",
      "294 conv2d_180\n",
      "295 batch_normalization_182\n",
      "296 batch_normalization_183\n",
      "297 batch_normalization_186\n",
      "298 batch_normalization_187\n",
      "299 conv2d_188\n",
      "300 batch_normalization_180\n",
      "301 activation_182\n",
      "302 activation_183\n",
      "303 activation_186\n",
      "304 activation_187\n",
      "305 batch_normalization_188\n",
      "306 activation_180\n",
      "307 mixed9_1\n",
      "308 concatenate_4\n",
      "309 activation_188\n",
      "310 mixed10\n"
     ]
    }
   ],
   "source": [
    "for i, layer in enumerate(base_model.layers):\n",
    "   print(i, layer.name)"
   ]
  },
  {
   "cell_type": "code",
   "execution_count": 9,
   "metadata": {
    "ExecuteTime": {
     "end_time": "2020-06-16T08:05:03.031142Z",
     "start_time": "2020-06-16T08:05:03.001460Z"
    },
    "colab": {
     "base_uri": "https://localhost:8080/",
     "height": 387
    },
    "colab_type": "code",
    "id": "pL7ajDMZxZnR",
    "outputId": "d461127a-6ac7-4153-8610-9a3b295d9beb"
   },
   "outputs": [
    {
     "name": "stdout",
     "output_type": "stream",
     "text": [
      "_________________________________________________________________\n",
      "Layer (type)                 Output Shape              Param #   \n",
      "=================================================================\n",
      "inception_input (InputLayer) (None, 48, 42, 3)         0         \n",
      "_________________________________________________________________\n",
      "up_sampling3d_2 (UpSampling3 (None, 144, 126, 3)       0         \n",
      "_________________________________________________________________\n",
      "inception_v3 (Model)         multiple                  21802784  \n",
      "_________________________________________________________________\n",
      "global_average_pooling2d_2 ( (None, 2048)              0         \n",
      "_________________________________________________________________\n",
      "dense_3 (Dense)              (None, 1024)              2098176   \n",
      "_________________________________________________________________\n",
      "dropout_2 (Dropout)          (None, 1024)              0         \n",
      "_________________________________________________________________\n",
      "dense_4 (Dense)              (None, 38)                38950     \n",
      "=================================================================\n",
      "Total params: 23,939,910\n",
      "Trainable params: 23,200,790\n",
      "Non-trainable params: 739,120\n",
      "_________________________________________________________________\n"
     ]
    }
   ],
   "source": [
    "for layer in base_model.layers[:64]:\n",
    "   layer.trainable = False\n",
    "    \n",
    "inceptionv3_model.summary()"
   ]
  },
  {
   "cell_type": "markdown",
   "metadata": {
    "colab_type": "text",
    "id": "z_sJasku5k79"
   },
   "source": [
    "# Compile and Fit the Model"
   ]
  },
  {
   "cell_type": "code",
   "execution_count": 10,
   "metadata": {
    "ExecuteTime": {
     "end_time": "2020-06-16T08:05:08.446531Z",
     "start_time": "2020-06-16T08:05:08.423785Z"
    },
    "_uuid": "750ecd8200b9017853fc6a6c5bb427a8ccbe84a9",
    "colab": {},
    "colab_type": "code",
    "id": "digxBRpQ_ZcF"
   },
   "outputs": [],
   "source": [
    "# Define the optimizer\n",
    "optimizer = RMSprop(lr=0.001, rho=0.9, epsilon=1e-08, decay=0.0)"
   ]
  },
  {
   "cell_type": "code",
   "execution_count": 11,
   "metadata": {
    "ExecuteTime": {
     "end_time": "2020-06-16T08:05:12.075179Z",
     "start_time": "2020-06-16T08:05:12.071881Z"
    },
    "_uuid": "2844cd3bf731b21d7163c0444a838c0756ee3c75",
    "colab": {},
    "colab_type": "code",
    "id": "Chfs6D38_ZcH"
   },
   "outputs": [],
   "source": [
    "# Set a learning rate annealer\n",
    "learning_rate_reduction = ReduceLROnPlateau(monitor='val_acc', \n",
    "                                            patience=3, \n",
    "                                            verbose=1, \n",
    "                                            factor=0.005, \n",
    "                                            min_lr=0.00001)"
   ]
  },
  {
   "cell_type": "code",
   "execution_count": 12,
   "metadata": {
    "ExecuteTime": {
     "end_time": "2020-06-16T08:05:17.928847Z",
     "start_time": "2020-06-16T08:05:17.890731Z"
    },
    "_uuid": "95290d032cfc52c46010e92fe16ef7610262fc7c",
    "colab": {},
    "colab_type": "code",
    "id": "Q_WOpn1g_Zcn"
   },
   "outputs": [],
   "source": [
    "inceptionv3_model.compile(optimizer=optimizer , loss=\"categorical_crossentropy\", metrics=[\"accuracy\"])"
   ]
  },
  {
   "cell_type": "code",
   "execution_count": 13,
   "metadata": {
    "ExecuteTime": {
     "end_time": "2020-06-16T08:10:42.802024Z",
     "start_time": "2020-06-16T08:05:33.744617Z"
    },
    "_uuid": "1ef40fafc365a53f66e7b3f60944e6139246d43c",
    "colab": {
     "base_uri": "https://localhost:8080/",
     "height": 774
    },
    "colab_type": "code",
    "collapsed": true,
    "id": "kAcl5JMs_Zcq",
    "outputId": "1fa259e5-e3cb-4d1d-f95d-37f216d883b2"
   },
   "outputs": [
    {
     "name": "stdout",
     "output_type": "stream",
     "text": [
      "Train on 912 samples, validate on 228 samples\n",
      "Epoch 1/100\n",
      "912/912 [==============================] - 22s 24ms/step - loss: 4.0548 - acc: 0.0329 - val_loss: 11.3732 - val_acc: 0.0263\n",
      "Epoch 2/100\n",
      "912/912 [==============================] - 3s 3ms/step - loss: 3.5928 - acc: 0.0735 - val_loss: 8.0538 - val_acc: 0.0351\n",
      "Epoch 3/100\n",
      "912/912 [==============================] - 3s 3ms/step - loss: 2.9829 - acc: 0.1853 - val_loss: 3.3160 - val_acc: 0.0833\n",
      "Epoch 4/100\n",
      "912/912 [==============================] - 3s 3ms/step - loss: 2.0877 - acc: 0.3969 - val_loss: 4.2018 - val_acc: 0.2061\n",
      "Epoch 5/100\n",
      "912/912 [==============================] - 3s 3ms/step - loss: 1.3063 - acc: 0.6228 - val_loss: 6.1572 - val_acc: 0.1535\n",
      "Epoch 6/100\n",
      "912/912 [==============================] - 3s 3ms/step - loss: 0.9505 - acc: 0.7412 - val_loss: 3.8330 - val_acc: 0.2895\n",
      "Epoch 7/100\n",
      "912/912 [==============================] - 3s 3ms/step - loss: 0.5331 - acc: 0.8509 - val_loss: 5.7823 - val_acc: 0.4123\n",
      "Epoch 8/100\n",
      "912/912 [==============================] - 3s 3ms/step - loss: 0.5812 - acc: 0.8443 - val_loss: 8.4190 - val_acc: 0.2895\n",
      "Epoch 9/100\n",
      "912/912 [==============================] - 3s 3ms/step - loss: 0.3657 - acc: 0.8958 - val_loss: 2.2399 - val_acc: 0.6404\n",
      "Epoch 10/100\n",
      "912/912 [==============================] - 3s 3ms/step - loss: 0.3922 - acc: 0.8947 - val_loss: 7.4963 - val_acc: 0.3684\n",
      "Epoch 11/100\n",
      "912/912 [==============================] - 3s 3ms/step - loss: 0.4819 - acc: 0.8947 - val_loss: 8.2698 - val_acc: 0.3684\n",
      "Epoch 12/100\n",
      "912/912 [==============================] - 3s 3ms/step - loss: 0.4315 - acc: 0.9068 - val_loss: 11.1161 - val_acc: 0.1798\n",
      "\n",
      "Epoch 00012: ReduceLROnPlateau reducing learning rate to 1e-05.\n",
      "Epoch 13/100\n",
      "912/912 [==============================] - 3s 3ms/step - loss: 0.2165 - acc: 0.9386 - val_loss: 5.3078 - val_acc: 0.4825\n",
      "Epoch 14/100\n",
      "912/912 [==============================] - 3s 3ms/step - loss: 0.1800 - acc: 0.9583 - val_loss: 1.8044 - val_acc: 0.7193\n",
      "Epoch 15/100\n",
      "912/912 [==============================] - 3s 3ms/step - loss: 0.1411 - acc: 0.9627 - val_loss: 0.6021 - val_acc: 0.8860\n",
      "Epoch 16/100\n",
      "912/912 [==============================] - 3s 3ms/step - loss: 0.1364 - acc: 0.9616 - val_loss: 0.3178 - val_acc: 0.9342\n",
      "Epoch 17/100\n",
      "912/912 [==============================] - 3s 3ms/step - loss: 0.1001 - acc: 0.9748 - val_loss: 0.2713 - val_acc: 0.9474\n",
      "Epoch 18/100\n",
      "912/912 [==============================] - 3s 3ms/step - loss: 0.1228 - acc: 0.9638 - val_loss: 0.2554 - val_acc: 0.9430\n",
      "Epoch 19/100\n",
      "912/912 [==============================] - 3s 3ms/step - loss: 0.0883 - acc: 0.9748 - val_loss: 0.2501 - val_acc: 0.9386\n",
      "Epoch 20/100\n",
      "912/912 [==============================] - 3s 3ms/step - loss: 0.1179 - acc: 0.9649 - val_loss: 0.2465 - val_acc: 0.9430\n",
      "Epoch 21/100\n",
      "912/912 [==============================] - 3s 3ms/step - loss: 0.0881 - acc: 0.9693 - val_loss: 0.2487 - val_acc: 0.9430\n",
      "Epoch 22/100\n",
      "912/912 [==============================] - 3s 3ms/step - loss: 0.0768 - acc: 0.9792 - val_loss: 0.2489 - val_acc: 0.9430\n",
      "Epoch 23/100\n",
      "912/912 [==============================] - 3s 3ms/step - loss: 0.0689 - acc: 0.9792 - val_loss: 0.2464 - val_acc: 0.9430\n",
      "Epoch 24/100\n",
      "912/912 [==============================] - 3s 3ms/step - loss: 0.0677 - acc: 0.9803 - val_loss: 0.2468 - val_acc: 0.9430\n",
      "Epoch 25/100\n",
      "912/912 [==============================] - 3s 3ms/step - loss: 0.0599 - acc: 0.9846 - val_loss: 0.2476 - val_acc: 0.9430\n",
      "Epoch 26/100\n",
      "912/912 [==============================] - 3s 3ms/step - loss: 0.0597 - acc: 0.9825 - val_loss: 0.2465 - val_acc: 0.9430\n",
      "Epoch 27/100\n",
      "912/912 [==============================] - 3s 3ms/step - loss: 0.0517 - acc: 0.9846 - val_loss: 0.2461 - val_acc: 0.9430\n",
      "Epoch 28/100\n",
      "912/912 [==============================] - 3s 3ms/step - loss: 0.0613 - acc: 0.9814 - val_loss: 0.2438 - val_acc: 0.9430\n",
      "Epoch 29/100\n",
      "912/912 [==============================] - 3s 3ms/step - loss: 0.0544 - acc: 0.9836 - val_loss: 0.2436 - val_acc: 0.9474\n",
      "Epoch 30/100\n",
      "912/912 [==============================] - 3s 3ms/step - loss: 0.0529 - acc: 0.9868 - val_loss: 0.2426 - val_acc: 0.9474\n",
      "Epoch 31/100\n",
      "912/912 [==============================] - 3s 3ms/step - loss: 0.0553 - acc: 0.9846 - val_loss: 0.2390 - val_acc: 0.9474\n",
      "Epoch 32/100\n",
      "912/912 [==============================] - 3s 3ms/step - loss: 0.0526 - acc: 0.9836 - val_loss: 0.2377 - val_acc: 0.9474\n",
      "Epoch 33/100\n",
      "912/912 [==============================] - 3s 3ms/step - loss: 0.0584 - acc: 0.9814 - val_loss: 0.2380 - val_acc: 0.9430\n",
      "Epoch 34/100\n",
      "912/912 [==============================] - 3s 3ms/step - loss: 0.0556 - acc: 0.9846 - val_loss: 0.2387 - val_acc: 0.9430\n",
      "Epoch 35/100\n",
      "912/912 [==============================] - 3s 3ms/step - loss: 0.0528 - acc: 0.9868 - val_loss: 0.2384 - val_acc: 0.9430\n",
      "Epoch 36/100\n",
      "912/912 [==============================] - 3s 3ms/step - loss: 0.0468 - acc: 0.9857 - val_loss: 0.2391 - val_acc: 0.9474\n",
      "Epoch 37/100\n",
      "912/912 [==============================] - 3s 3ms/step - loss: 0.0470 - acc: 0.9868 - val_loss: 0.2391 - val_acc: 0.9474\n",
      "Epoch 38/100\n",
      "912/912 [==============================] - 3s 3ms/step - loss: 0.0438 - acc: 0.9836 - val_loss: 0.2427 - val_acc: 0.9430\n",
      "Epoch 39/100\n",
      "912/912 [==============================] - 3s 3ms/step - loss: 0.0425 - acc: 0.9857 - val_loss: 0.2426 - val_acc: 0.9474\n",
      "Epoch 40/100\n",
      "912/912 [==============================] - 3s 3ms/step - loss: 0.0420 - acc: 0.9868 - val_loss: 0.2422 - val_acc: 0.9430\n",
      "Epoch 41/100\n",
      "912/912 [==============================] - 3s 3ms/step - loss: 0.0435 - acc: 0.9857 - val_loss: 0.2434 - val_acc: 0.9474\n",
      "Epoch 42/100\n",
      "912/912 [==============================] - 3s 3ms/step - loss: 0.0388 - acc: 0.9890 - val_loss: 0.2429 - val_acc: 0.9430\n",
      "Epoch 43/100\n",
      "912/912 [==============================] - 3s 3ms/step - loss: 0.0404 - acc: 0.9868 - val_loss: 0.2426 - val_acc: 0.9430\n",
      "Epoch 44/100\n",
      "912/912 [==============================] - 3s 3ms/step - loss: 0.0429 - acc: 0.9868 - val_loss: 0.2438 - val_acc: 0.9474\n",
      "Epoch 45/100\n",
      "912/912 [==============================] - 3s 3ms/step - loss: 0.0502 - acc: 0.9846 - val_loss: 0.2458 - val_acc: 0.9430\n",
      "Epoch 46/100\n",
      "912/912 [==============================] - 3s 3ms/step - loss: 0.0451 - acc: 0.9857 - val_loss: 0.2463 - val_acc: 0.9474\n",
      "Epoch 47/100\n",
      "912/912 [==============================] - 3s 3ms/step - loss: 0.0472 - acc: 0.9879 - val_loss: 0.2459 - val_acc: 0.9430\n",
      "Epoch 48/100\n",
      "912/912 [==============================] - 3s 3ms/step - loss: 0.0338 - acc: 0.9890 - val_loss: 0.2457 - val_acc: 0.9430\n",
      "Epoch 49/100\n",
      "912/912 [==============================] - 3s 3ms/step - loss: 0.0367 - acc: 0.9879 - val_loss: 0.2474 - val_acc: 0.9474\n",
      "Epoch 50/100\n",
      "912/912 [==============================] - 3s 3ms/step - loss: 0.0423 - acc: 0.9857 - val_loss: 0.2484 - val_acc: 0.9474\n",
      "Epoch 51/100\n",
      "912/912 [==============================] - 3s 3ms/step - loss: 0.0349 - acc: 0.9901 - val_loss: 0.2491 - val_acc: 0.9518\n",
      "Epoch 52/100\n",
      "912/912 [==============================] - 3s 3ms/step - loss: 0.0367 - acc: 0.9879 - val_loss: 0.2512 - val_acc: 0.9518\n",
      "Epoch 53/100\n",
      "912/912 [==============================] - 3s 3ms/step - loss: 0.0332 - acc: 0.9901 - val_loss: 0.2498 - val_acc: 0.9518\n",
      "Epoch 54/100\n",
      "912/912 [==============================] - 3s 3ms/step - loss: 0.0372 - acc: 0.9901 - val_loss: 0.2551 - val_acc: 0.9474\n",
      "Epoch 55/100\n",
      "912/912 [==============================] - 3s 3ms/step - loss: 0.0323 - acc: 0.9890 - val_loss: 0.2561 - val_acc: 0.9474\n",
      "Epoch 56/100\n",
      "912/912 [==============================] - 3s 3ms/step - loss: 0.0435 - acc: 0.9868 - val_loss: 0.2539 - val_acc: 0.9474\n",
      "Epoch 57/100\n",
      "912/912 [==============================] - 3s 3ms/step - loss: 0.0333 - acc: 0.9890 - val_loss: 0.2540 - val_acc: 0.9474\n",
      "Epoch 58/100\n",
      "912/912 [==============================] - 3s 3ms/step - loss: 0.0294 - acc: 0.9912 - val_loss: 0.2552 - val_acc: 0.9474\n",
      "Epoch 59/100\n",
      "912/912 [==============================] - 3s 3ms/step - loss: 0.0312 - acc: 0.9890 - val_loss: 0.2569 - val_acc: 0.9474\n",
      "Epoch 60/100\n",
      "912/912 [==============================] - 3s 3ms/step - loss: 0.0373 - acc: 0.9912 - val_loss: 0.2567 - val_acc: 0.9474\n",
      "Epoch 61/100\n"
     ]
    },
    {
     "name": "stdout",
     "output_type": "stream",
     "text": [
      "912/912 [==============================] - 3s 3ms/step - loss: 0.0273 - acc: 0.9945 - val_loss: 0.2556 - val_acc: 0.9474\n",
      "Epoch 62/100\n",
      "912/912 [==============================] - 3s 3ms/step - loss: 0.0320 - acc: 0.9912 - val_loss: 0.2578 - val_acc: 0.9474\n",
      "Epoch 63/100\n",
      "912/912 [==============================] - 3s 3ms/step - loss: 0.0286 - acc: 0.9890 - val_loss: 0.2579 - val_acc: 0.9474\n",
      "Epoch 64/100\n",
      "912/912 [==============================] - 3s 3ms/step - loss: 0.0279 - acc: 0.9923 - val_loss: 0.2563 - val_acc: 0.9474\n",
      "Epoch 65/100\n",
      "912/912 [==============================] - 3s 3ms/step - loss: 0.0254 - acc: 0.9912 - val_loss: 0.2570 - val_acc: 0.9474\n",
      "Epoch 66/100\n",
      "912/912 [==============================] - 3s 3ms/step - loss: 0.0271 - acc: 0.9912 - val_loss: 0.2587 - val_acc: 0.9474\n",
      "Epoch 67/100\n",
      "912/912 [==============================] - 3s 3ms/step - loss: 0.0306 - acc: 0.9901 - val_loss: 0.2596 - val_acc: 0.9518\n",
      "Epoch 68/100\n",
      "912/912 [==============================] - 3s 3ms/step - loss: 0.0271 - acc: 0.9879 - val_loss: 0.2622 - val_acc: 0.9518\n",
      "Epoch 69/100\n",
      "912/912 [==============================] - 3s 3ms/step - loss: 0.0293 - acc: 0.9890 - val_loss: 0.2632 - val_acc: 0.9518\n",
      "Epoch 70/100\n",
      "912/912 [==============================] - 3s 3ms/step - loss: 0.0267 - acc: 0.9901 - val_loss: 0.2654 - val_acc: 0.9518\n",
      "Epoch 71/100\n",
      "912/912 [==============================] - 3s 3ms/step - loss: 0.0250 - acc: 0.9912 - val_loss: 0.2658 - val_acc: 0.9474\n",
      "Epoch 72/100\n",
      "912/912 [==============================] - 3s 3ms/step - loss: 0.0220 - acc: 0.9945 - val_loss: 0.2638 - val_acc: 0.9518\n",
      "Epoch 73/100\n",
      "912/912 [==============================] - 3s 3ms/step - loss: 0.0203 - acc: 0.9945 - val_loss: 0.2639 - val_acc: 0.9518\n",
      "Epoch 74/100\n",
      "912/912 [==============================] - 3s 3ms/step - loss: 0.0280 - acc: 0.9923 - val_loss: 0.2672 - val_acc: 0.9518\n",
      "Epoch 75/100\n",
      "912/912 [==============================] - 3s 3ms/step - loss: 0.0245 - acc: 0.9934 - val_loss: 0.2706 - val_acc: 0.9561\n",
      "Epoch 76/100\n",
      "912/912 [==============================] - 3s 3ms/step - loss: 0.0230 - acc: 0.9912 - val_loss: 0.2706 - val_acc: 0.9561\n",
      "Epoch 77/100\n",
      "912/912 [==============================] - 3s 3ms/step - loss: 0.0219 - acc: 0.9934 - val_loss: 0.2730 - val_acc: 0.9561\n",
      "Epoch 78/100\n",
      "912/912 [==============================] - 3s 3ms/step - loss: 0.0226 - acc: 0.9934 - val_loss: 0.2730 - val_acc: 0.9518\n",
      "Epoch 79/100\n",
      "912/912 [==============================] - 3s 3ms/step - loss: 0.0225 - acc: 0.9923 - val_loss: 0.2725 - val_acc: 0.9518\n",
      "Epoch 80/100\n",
      "912/912 [==============================] - 3s 3ms/step - loss: 0.0261 - acc: 0.9912 - val_loss: 0.2739 - val_acc: 0.9518\n",
      "Epoch 81/100\n",
      "912/912 [==============================] - 3s 3ms/step - loss: 0.0198 - acc: 0.9945 - val_loss: 0.2725 - val_acc: 0.9518\n",
      "Epoch 82/100\n",
      "912/912 [==============================] - 3s 3ms/step - loss: 0.0206 - acc: 0.9934 - val_loss: 0.2783 - val_acc: 0.9518\n",
      "Epoch 83/100\n",
      "912/912 [==============================] - 3s 3ms/step - loss: 0.0171 - acc: 0.9967 - val_loss: 0.2773 - val_acc: 0.9561\n",
      "Epoch 84/100\n",
      "912/912 [==============================] - 3s 3ms/step - loss: 0.0191 - acc: 0.9967 - val_loss: 0.2794 - val_acc: 0.9561\n",
      "Epoch 85/100\n",
      "912/912 [==============================] - 3s 3ms/step - loss: 0.0210 - acc: 0.9923 - val_loss: 0.2855 - val_acc: 0.9561\n",
      "Epoch 86/100\n",
      "912/912 [==============================] - 3s 3ms/step - loss: 0.0203 - acc: 0.9934 - val_loss: 0.2868 - val_acc: 0.9518\n",
      "Epoch 87/100\n",
      "912/912 [==============================] - 3s 3ms/step - loss: 0.0218 - acc: 0.9956 - val_loss: 0.2837 - val_acc: 0.9518\n",
      "Epoch 88/100\n",
      "912/912 [==============================] - 3s 3ms/step - loss: 0.0175 - acc: 0.9945 - val_loss: 0.2830 - val_acc: 0.9518\n",
      "Epoch 89/100\n",
      "912/912 [==============================] - 3s 3ms/step - loss: 0.0173 - acc: 0.9945 - val_loss: 0.2878 - val_acc: 0.9518\n",
      "Epoch 90/100\n",
      "912/912 [==============================] - 3s 3ms/step - loss: 0.0193 - acc: 0.9923 - val_loss: 0.2889 - val_acc: 0.9518\n",
      "Epoch 91/100\n",
      "912/912 [==============================] - 3s 3ms/step - loss: 0.0197 - acc: 0.9934 - val_loss: 0.2909 - val_acc: 0.9561\n",
      "Epoch 92/100\n",
      "912/912 [==============================] - 3s 3ms/step - loss: 0.0150 - acc: 0.9956 - val_loss: 0.2971 - val_acc: 0.9518\n",
      "Epoch 93/100\n",
      "912/912 [==============================] - 3s 3ms/step - loss: 0.0163 - acc: 0.9945 - val_loss: 0.2988 - val_acc: 0.9518\n",
      "Epoch 94/100\n",
      "912/912 [==============================] - 3s 3ms/step - loss: 0.0188 - acc: 0.9934 - val_loss: 0.3007 - val_acc: 0.9518\n",
      "Epoch 95/100\n",
      "912/912 [==============================] - 3s 3ms/step - loss: 0.0150 - acc: 0.9978 - val_loss: 0.3011 - val_acc: 0.9518\n",
      "Epoch 96/100\n",
      "912/912 [==============================] - 3s 3ms/step - loss: 0.0171 - acc: 0.9945 - val_loss: 0.3036 - val_acc: 0.9518\n",
      "Epoch 97/100\n",
      "912/912 [==============================] - 3s 3ms/step - loss: 0.0128 - acc: 0.9967 - val_loss: 0.3053 - val_acc: 0.9518\n",
      "Epoch 98/100\n",
      "912/912 [==============================] - 3s 3ms/step - loss: 0.0145 - acc: 0.9945 - val_loss: 0.3076 - val_acc: 0.9518\n",
      "Epoch 99/100\n",
      "912/912 [==============================] - 3s 3ms/step - loss: 0.0175 - acc: 0.9934 - val_loss: 0.3107 - val_acc: 0.9561\n",
      "Epoch 100/100\n",
      "912/912 [==============================] - 3s 3ms/step - loss: 0.0192 - acc: 0.9934 - val_loss: 0.3060 - val_acc: 0.9518\n"
     ]
    }
   ],
   "source": [
    "inceptionv3_history = inceptionv3_model.fit(x_train, y_train, epochs=100, batch_size=32,\n",
    "                                            validation_data=(x_val, y_val),\n",
    "                                            shuffle=True,\n",
    "                                            callbacks=[learning_rate_reduction])"
   ]
  },
  {
   "cell_type": "code",
   "execution_count": 26,
   "metadata": {
    "ExecuteTime": {
     "end_time": "2020-06-16T08:36:26.585930Z",
     "start_time": "2020-06-16T08:36:23.504110Z"
    },
    "colab": {},
    "colab_type": "code",
    "id": "Tm3w0ygRmszj"
   },
   "outputs": [],
   "source": [
    "inceptionv3_model.save('inceptionv3_face.h5')"
   ]
  },
  {
   "cell_type": "code",
   "execution_count": 15,
   "metadata": {
    "ExecuteTime": {
     "end_time": "2020-06-16T08:18:12.816010Z",
     "start_time": "2020-06-16T08:18:12.809655Z"
    }
   },
   "outputs": [
    {
     "name": "stdout",
     "output_type": "stream",
     "text": [
      "dict_keys(['val_loss', 'val_acc', 'loss', 'acc', 'lr'])\n"
     ]
    }
   ],
   "source": [
    "print(inceptionv3_history.history.keys())\n"
   ]
  },
  {
   "cell_type": "code",
   "execution_count": 17,
   "metadata": {
    "ExecuteTime": {
     "end_time": "2020-06-16T08:19:09.313998Z",
     "start_time": "2020-06-16T08:19:09.020396Z"
    },
    "collapsed": true
   },
   "outputs": [
    {
     "data": {
      "image/png": "[encoded data removed]",
      "text/plain": [
       "<Figure size 432x288 with 1 Axes>"
      ]
     },
     "metadata": {
      "needs_background": "light"
     },
     "output_type": "display_data"
    },
    {
     "data": {
      "image/png": "[encoded data removed]",
      "text/plain": [
       "<Figure size 432x288 with 1 Axes>"
      ]
     },
     "metadata": {
      "needs_background": "light"
     },
     "output_type": "display_data"
    }
   ],
   "source": [
    "import matplotlib.pyplot as plt\n",
    "\n",
    "plt.plot(inceptionv3_history.history['acc'])\n",
    "plt.plot(inceptionv3_history.history['val_acc'])\n",
    "plt.title('model accuracy')\n",
    "plt.ylabel('accuracy')\n",
    "plt.xlabel('epoch')\n",
    "plt.legend(['train', 'test'], loc='upper left')\n",
    "plt.show()\n",
    "# summarize history for loss\n",
    "plt.plot(inceptionv3_history.history['loss'])\n",
    "plt.plot(inceptionv3_history.history['val_loss'])\n",
    "plt.title('model loss')\n",
    "plt.ylabel('loss')\n",
    "plt.xlabel('epoch')\n",
    "plt.legend(['train', 'test'], loc='upper left')\n",
    "plt.show()"
   ]
  },
  {
   "cell_type": "code",
   "execution_count": 23,
   "metadata": {
    "ExecuteTime": {
     "end_time": "2020-06-16T08:29:39.277525Z",
     "start_time": "2020-06-16T08:29:39.272714Z"
    }
   },
   "outputs": [
    {
     "name": "stdout",
     "output_type": "stream",
     "text": [
      "(912, 48, 42, 3)\n",
      "(1330, 48, 42, 3)\n",
      "(228, 48, 42, 3)\n"
     ]
    }
   ],
   "source": [
    "# y_pred = inceptionv3_model.predict(x_test, verbose=0)\n",
    "print(x_train.shape)\n",
    "print(x_test.shape)\n",
    "print(x_val.shape)"
   ]
  },
  {
   "cell_type": "code",
   "execution_count": 24,
   "metadata": {
    "ExecuteTime": {
     "end_time": "2020-06-16T08:31:08.081661Z",
     "start_time": "2020-06-16T08:31:08.077855Z"
    }
   },
   "outputs": [],
   "source": [
    "accuracy = np.mean(np.argmax(y_pred, axis=1) == np.argmax(y_test, axis=1))"
   ]
  },
  {
   "cell_type": "code",
   "execution_count": 25,
   "metadata": {
    "ExecuteTime": {
     "end_time": "2020-06-16T08:31:18.571858Z",
     "start_time": "2020-06-16T08:31:18.568339Z"
    }
   },
   "outputs": [
    {
     "name": "stdout",
     "output_type": "stream",
     "text": [
      "0.9766917293233083\n"
     ]
    }
   ],
   "source": [
    "print(accuracy)"
   ]
  },
  {
   "cell_type": "code",
   "execution_count": 51,
   "metadata": {
    "ExecuteTime": {
     "end_time": "2020-06-13T06:50:55.836659Z",
     "start_time": "2020-06-13T06:50:55.829692Z"
    }
   },
   "outputs": [
    {
     "name": "stdout",
     "output_type": "stream",
     "text": [
      "[5 8 8 0 6 6 1 6 3 1]\n"
     ]
    }
   ],
   "source": [
    "print(np.argmax(y_pred[:10], axis=1))"
   ]
  },
  {
   "cell_type": "code",
   "execution_count": 52,
   "metadata": {
    "ExecuteTime": {
     "end_time": "2020-06-13T06:51:05.919453Z",
     "start_time": "2020-06-13T06:51:05.909000Z"
    }
   },
   "outputs": [
    {
     "data": {
      "text/plain": [
       "array([[0., 0., 0., 1., 0., 0., 0., 0., 0., 0.],\n",
       "       [0., 0., 0., 0., 0., 0., 0., 0., 1., 0.],\n",
       "       [0., 0., 0., 0., 0., 0., 0., 0., 1., 0.],\n",
       "       [1., 0., 0., 0., 0., 0., 0., 0., 0., 0.],\n",
       "       [0., 0., 0., 0., 0., 0., 1., 0., 0., 0.],\n",
       "       [0., 0., 0., 0., 0., 0., 1., 0., 0., 0.],\n",
       "       [0., 1., 0., 0., 0., 0., 0., 0., 0., 0.],\n",
       "       [0., 0., 0., 0., 0., 0., 1., 0., 0., 0.],\n",
       "       [0., 0., 0., 1., 0., 0., 0., 0., 0., 0.],\n",
       "       [0., 1., 0., 0., 0., 0., 0., 0., 0., 0.]], dtype=float32)"
      ]
     },
     "execution_count": 52,
     "metadata": {},
     "output_type": "execute_result"
    }
   ],
   "source": [
    "y_test[:10]"
   ]
  },
  {
   "cell_type": "code",
   "execution_count": null,
   "metadata": {},
   "outputs": [],
   "source": []
  }
 ],
 "metadata": {
  "accelerator": "GPU",
  "colab": {
   "collapsed_sections": [
    "WP5gHqgP_Zbw",
    "LTMcZztY_Zb0",
    "YlPd9a6q_ZcD",
    "JKmCf9xJ_ZcN",
    "UZU6FrgX_ZcT",
    "nn6eiB-f_ZcZ",
    "K9uwiVWV_Zcc",
    "c1Lr6sR3_Zct",
    "vOm7hZdy_Zcw",
    "do0f831X_Zc0",
    "oLfayLBK_Zc4",
    "edEHShhD_Zc9",
    "gdYC7vUP_ZdI",
    "Mc54ZB07_ZdQ"
   ],
   "include_colab_link": true,
   "name": "mnist-tutorial.ipynb",
   "provenance": [],
   "version": "0.3.2"
  },
  "kernelspec": {
   "display_name": "Python 3",
   "language": "python",
   "name": "python3"
  },
  "language_info": {
   "codemirror_mode": {
    "name": "ipython",
    "version": 3
   },
   "file_extension": ".py",
   "mimetype": "text/x-python",
   "name": "python",
   "nbconvert_exporter": "python",
   "pygments_lexer": "ipython3",
   "version": "3.6.8"
  },
  "toc": {
   "base_numbering": 1,
   "nav_menu": {},
   "number_sections": true,
   "sideBar": true,
   "skip_h1_title": false,
   "title_cell": "Table of Contents",
   "title_sidebar": "Contents",
   "toc_cell": false,
   "toc_position": {},
   "toc_section_display": true,
   "toc_window_display": false
  },
  "varInspector": {
   "cols": {
    "lenName": 16,
    "lenType": 16,
    "lenVar": 40
   },
   "kernels_config": {
    "python": {
     "delete_cmd_postfix": "",
     "delete_cmd_prefix": "del ",
     "library": "var_list.py",
     "varRefreshCmd": "print(var_dic_list())"
    },
    "r": {
     "delete_cmd_postfix": ") ",
     "delete_cmd_prefix": "rm(",
     "library": "var_list.r",
     "varRefreshCmd": "cat(var_dic_list()) "
    }
   },
   "types_to_exclude": [
    "module",
    "function",
    "builtin_function_or_method",
    "instance",
    "_Feature"
   ],
   "window_display": false
  }
 },
 "nbformat": 4,
 "nbformat_minor": 1
}
